{
 "cells": [
  {
   "cell_type": "code",
   "execution_count": 21,
   "metadata": {},
   "outputs": [],
   "source": [
    "import numpy as np\n",
    "import matplotlib.pyplot as plt\n",
    "import h5py\n",
    "from utils import *\n",
    "import scipy\n",
    "from scipy import ndimage\n",
    "from PIL import Image\n",
    "\n",
    "%matplotlib inline\n",
    "plt.rcParams['figure.figsize'] = (5.0, 4.0) # set default size of plots\n",
    "plt.rcParams['image.interpolation'] = 'nearest'\n",
    "plt.rcParams['image.cmap'] = 'gray'"
   ]
  },
  {
   "cell_type": "markdown",
   "metadata": {},
   "source": [
    "# Define the model"
   ]
  },
  {
   "cell_type": "code",
   "execution_count": 34,
   "metadata": {
    "collapsed": true
   },
   "outputs": [],
   "source": [
    "def model(X, Y, layer_dims, num_iterations=2000, learning_rate=0.01, printCost=False):\n",
    "    \n",
    "    #Initialize Parameters\n",
    "    parameters = initialize_parameters(layer_dims)\n",
    "    costs = []\n",
    "    \n",
    "    #Start Learning\n",
    "    for i in range(num_iterations):\n",
    "        \n",
    "        #Forward Propagate\n",
    "        AL, cache = forwardPropagation(X, parameters)\n",
    "        \n",
    "        #Find Cost\n",
    "        cost = computeCost(AL, Y)\n",
    "        if printCost and i%100==0:\n",
    "            print(\"Cost at iteration \" + str(i) + \" is \" + str(cost))\n",
    "            costs.append(cost)\n",
    "        \n",
    "        #Back Propagate\n",
    "        grads = backPropagation(AL, Y, cache)\n",
    "        \n",
    "        #Update Parameters\n",
    "        parameters = updateParameters(parameters, grads, learning_rate)\n",
    "    \n",
    "    #plot cost\n",
    "    plt.plot(np.squeeze(costs))\n",
    "    plt.ylabel('cost')\n",
    "    plt.xlabel('number of iterations')\n",
    "    plt.title('Learning Rate: ' + str(learning_rate))\n",
    "    plt.show()\n",
    "    \n",
    "    return parameters\n",
    "\n",
    "\n",
    "def predict(X, Y, final_parameters):\n",
    "    probabs, cache = forwardPropagation(X, final_parameters)\n",
    "    m = X.shape[1]\n",
    "    p = np.zeros((1, m), dtype=float)\n",
    "    for i in range(probabs.shape[1]):\n",
    "        if probabs[0, i] >= 0.5:\n",
    "            p[0, i] = 1\n",
    "        else:\n",
    "            p[0, i] = 0\n",
    "    print(\"Accuracy: \" + str(np.sum((p == Y)/m)))\n",
    "    return p"
   ]
  },
  {
   "cell_type": "markdown",
   "metadata": {},
   "source": [
    "# Train the Model"
   ]
  },
  {
   "cell_type": "code",
   "execution_count": 38,
   "metadata": {},
   "outputs": [
    {
     "name": "stdout",
     "output_type": "stream",
     "text": [
      "Cost at iteration 0 is 0.6945717739730115\n",
      "Cost at iteration 100 is 0.6434061703489665\n",
      "Cost at iteration 200 is 0.6166101894849434\n",
      "Cost at iteration 300 is 0.5627617707103282\n",
      "Cost at iteration 400 is 0.5057347612191672\n",
      "Cost at iteration 500 is 0.4536798494989342\n",
      "Cost at iteration 600 is 0.44134490509522084\n",
      "Cost at iteration 700 is 0.4088202976924792\n",
      "Cost at iteration 800 is 0.3798669429657168\n",
      "Cost at iteration 900 is 0.35324452384840277\n",
      "Cost at iteration 1000 is 0.32647772660402136\n",
      "Cost at iteration 1100 is 0.3251916886386944\n",
      "Cost at iteration 1200 is 0.19761115804713694\n",
      "Cost at iteration 1300 is 0.2943145151582862\n",
      "Cost at iteration 1400 is 0.3976809043528349\n",
      "Cost at iteration 1500 is 0.5780736011230613\n",
      "Cost at iteration 1600 is 0.09105038204553033\n",
      "Cost at iteration 1700 is 0.09918425427744583\n",
      "Cost at iteration 1800 is 0.06764502339574621\n",
      "Cost at iteration 1900 is 0.05592438041650194\n",
      "Cost at iteration 2000 is 0.04720512452580236\n",
      "Cost at iteration 2100 is 0.04038995342170164\n",
      "Cost at iteration 2200 is 0.035020648450207865\n",
      "Cost at iteration 2300 is 0.030671264546278287\n",
      "Cost at iteration 2400 is 0.027109297708366474\n"
     ]
    },
    {
     "data": {
      "image/png": "[encoded data removed]",
      "text/plain": [
       "<matplotlib.figure.Figure at 0x111de5d30>"
      ]
     },
     "metadata": {},
     "output_type": "display_data"
    },
    {
     "name": "stdout",
     "output_type": "stream",
     "text": [
      "Accuracy: 1.0\n",
      "Accuracy: 0.72\n"
     ]
    }
   ],
   "source": [
    "#Load training data\n",
    "train_x_orig, train_y, test_x_orig, test_y, classes = load_data()\n",
    "\n",
    "#Flatten and Normalize\n",
    "train_x_flatten = train_x_orig.reshape(train_x_orig.shape[0], -1).T\n",
    "test_x_flatten = test_x_orig.reshape(test_x_orig.shape[0], -1).T\n",
    "train_x = train_x_flatten/255.\n",
    "test_x = test_x_flatten/255.\n",
    "\n",
    "#Perform the training\n",
    "# layer_dims = [12288, 20, 7, 5, 1]\n",
    "layer_dims = [12288, 7, 1]\n",
    "parameters = model(train_x, train_y, layer_dims, 2500, 0.01, True)\n",
    "\n",
    "#Test the model\n",
    "pred_train = predict(train_x, train_y, parameters)\n",
    "pred_test = predict(test_x, test_y, parameters)"
   ]
  },
  {
   "cell_type": "markdown",
   "metadata": {},
   "source": [
    "# Supporting Functions"
   ]
  },
  {
   "cell_type": "code",
   "execution_count": 23,
   "metadata": {},
   "outputs": [],
   "source": [
    "def initialize_parameters(dims):\n",
    "    parameters = {}\n",
    "    L = len(dims)\n",
    "    for l in range(1, L):\n",
    "        parameters[\"W\" + str(l)] = np.random.randn(dims[l], dims[l-1]) * 0.01\n",
    "        parameters[\"b\" + str(l)] = np.zeros((dims[l], 1), dtype=float)\n",
    "    return parameters"
   ]
  },
  {
   "cell_type": "code",
   "execution_count": 30,
   "metadata": {
    "collapsed": true
   },
   "outputs": [],
   "source": [
    "def forwardPropagation(X, parameters):\n",
    "    L = len(parameters)//2\n",
    "    A = X\n",
    "    caches = []\n",
    "    for l in range(1, L):\n",
    "        A_prev = A\n",
    "        W = parameters[\"W\" + str(l)]\n",
    "        b = parameters[\"b\" + str(l)]\n",
    "        A,cache = linear_activation_forward(A_prev, W, b, \"relu\")\n",
    "        caches.append(cache)\n",
    "    \n",
    "    #For final layer\n",
    "    W = parameters[\"W\" + str(L)]\n",
    "    b = parameters[\"b\" + str(L)]\n",
    "    AL,cache = linear_activation_forward(A, W, b, \"sigmoid\")\n",
    "    caches.append(cache)\n",
    "    \n",
    "    return AL, caches\n",
    "\n",
    "def linear_activation_forward(A_prev, W, b, activation):\n",
    "    Z, linear_cache = linear_forward(A_prev, W, b)\n",
    "    if activation==\"relu\":\n",
    "        A, activation_cache = relu(Z)\n",
    "    else:\n",
    "        A, activation_cache = sigmoid(Z)\n",
    "    cache = (linear_cache, activation_cache)\n",
    "    return A, cache\n",
    "    \n",
    "def linear_forward(A_prev, W, b):\n",
    "    Z = np.dot(W, A_prev) + b\n",
    "    cache = (A_prev, W, b)\n",
    "    return Z, cache\n",
    "\n",
    "def relu(Z):\n",
    "    A = np.maximum(0, Z)\n",
    "    cache = Z\n",
    "    return A, cache\n",
    "\n",
    "def sigmoid(Z):\n",
    "    A = 1 / (1 + np.exp(-Z))\n",
    "    cache = Z\n",
    "    return A, cache"
   ]
  },
  {
   "cell_type": "code",
   "execution_count": 36,
   "metadata": {
    "collapsed": true
   },
   "outputs": [],
   "source": [
    "def computeCost(AL, Y):\n",
    "    m = Y.shape[1]\n",
    "    cost = (-1/m) * ((np.dot(Y, np.log(AL.T))) + (np.dot(1-Y, np.log(1-AL.T))))\n",
    "    cost = np.squeeze(cost)\n",
    "    return cost"
   ]
  },
  {
   "cell_type": "code",
   "execution_count": 26,
   "metadata": {},
   "outputs": [],
   "source": [
    "def backPropagation(AL, Y, caches):\n",
    "    grads = {}\n",
    "    L = len(caches)\n",
    "    \n",
    "    #for final layer\n",
    "    grads[\"dA\" + str(L)] = -(np.divide(Y, AL)) + np.divide(1-Y, 1-AL)\n",
    "    current_cache = caches[L - 1]\n",
    "    grads[\"dA\" + str(L - 1)], grads[\"dW\" + str(L)], grads[\"db\" + str(L)] = linear_activation_backwards(grads[\"dA\" + str(L)], current_cache, \"sigmoid\")\n",
    "    \n",
    "    for l in reversed(range(L - 1)):\n",
    "        current_cache = caches[l]\n",
    "        grads[\"dA\" + str(l)], grads[\"dW\" + str(l+1)], grads[\"db\" + str(l+1)] = linear_activation_backwards(grads[\"dA\" + str(l + 1)], current_cache, \"relu\")\n",
    "        \n",
    "    return grads\n",
    "\n",
    "def linear_activation_backwards(dA, cache, activation):\n",
    "    linear_cache, activation_cache = cache\n",
    "    if activation == \"relu\":\n",
    "        dZ = relu_backwards(dA, activation_cache)\n",
    "    else:\n",
    "        dZ = sigmoid_backwards(dA, activation_cache)\n",
    "    \n",
    "    dA_prev, dW, db = linear_backwards(dZ, linear_cache)\n",
    "    return dA_prev, dW, db\n",
    "\n",
    "    \n",
    "def linear_backwards(dZ, cache):\n",
    "    A_prev, W, b = cache\n",
    "    m = A_prev.shape[1]\n",
    "    dW = (1/m) * np.dot(dZ, A_prev.T)\n",
    "    db = (1/m) * np.sum(dZ, axis = 1, keepdims=True)\n",
    "    dA_prev = np.dot(W.T, dZ)\n",
    "    return dA_prev, dW, db\n",
    "    \n",
    "\n",
    "def relu_backwards(dA, cache):\n",
    "    Z = cache\n",
    "    dZ = np.array(dA, copy=True)\n",
    "    dZ[Z<=0] = 0\n",
    "    return dZ\n",
    "\n",
    "def sigmoid_backwards(dA, cache):\n",
    "    Z = cache\n",
    "    s = 1 / (1 + np.exp(-Z))\n",
    "    dZ = dA * s * (1 - s)\n",
    "    return dZ"
   ]
  },
  {
   "cell_type": "code",
   "execution_count": 27,
   "metadata": {
    "collapsed": true
   },
   "outputs": [],
   "source": [
    "def updateParameters(parameters, grads, learning_rate):\n",
    "    L = len(parameters)//2\n",
    "    for l in range(L):\n",
    "        parameters[\"W\" + str(l+1)] -= learning_rate * grads[\"dW\" + str(l+1)]\n",
    "        parameters[\"b\" + str(l+1)] -= learning_rate * grads[\"db\" + str(l+1)]\n",
    "    return parameters"
   ]
  },
  {
   "cell_type": "code",
   "execution_count": null,
   "metadata": {
    "collapsed": true
   },
   "outputs": [],
   "source": []
  }
 ],
 "metadata": {
  "kernelspec": {
   "display_name": "Python 3",
   "language": "python",
   "name": "python3"
  },
  "language_info": {
   "codemirror_mode": {
    "name": "ipython",
    "version": 3
   },
   "file_extension": ".py",
   "mimetype": "text/x-python",
   "name": "python",
   "nbconvert_exporter": "python",
   "pygments_lexer": "ipython3",
   "version": "3.6.3"
  }
 },
 "nbformat": 4,
 "nbformat_minor": 2
}
